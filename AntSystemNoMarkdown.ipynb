{
 "cells": [
  {
   "cell_type": "code",
   "execution_count": 1,
   "metadata": {},
   "outputs": [],
   "source": [
    "def VeryBadTour(costs, number_of_cities):\n",
    "    t = list(range(number_of_cities))\n",
    "    return SolutionValue(costs, t)"
   ]
  },
  {
   "cell_type": "code",
   "execution_count": 2,
   "metadata": {},
   "outputs": [],
   "source": [
    "def PheromoneUpdate(v, s):\n",
    "    global pheromones\n",
    "    global evaporation_constant\n",
    "    for ix, i in np.ndenumerate(pheromones):\n",
    "        pheromones[ix[0]][ix[1]] = (1-evaporation_constant) * i\n",
    "    for j in range(len(s)-1):\n",
    "        pheromones[s[j]][s[j+1]] += (1 / v)\n",
    "        pheromones[s[j+1]][s[j]] += (1 / v)"
   ]
  },
  {
   "cell_type": "code",
   "execution_count": 3,
   "metadata": {},
   "outputs": [],
   "source": [
    "def SolutionValue(costs, s):\n",
    "    v = 0\n",
    "    for i in range(len(s)):\n",
    "        if i == len(s)-1:\n",
    "            v = v + costs[s[i]][s[0]]\n",
    "        else:\n",
    "            v = v + costs[s[i]][s[i+1]]\n",
    "    return v"
   ]
  },
  {
   "cell_type": "code",
   "execution_count": 4,
   "metadata": {},
   "outputs": [],
   "source": [
    "def SolutionConstruction(l = None):\n",
    "    if type(l) == int:\n",
    "        s = [l]\n",
    "    else:\n",
    "        s = []\n",
    "    N = Determine(s)\n",
    "    while len(N) > 0:\n",
    "        c = ChooseFrom(N, s)\n",
    "        s.append(c)\n",
    "        N = Determine(s)\n",
    "    return s\n",
    "\n",
    "def Determine(s):\n",
    "    global number_of_cities\n",
    "    N = list(range(number_of_cities))\n",
    "    if len(s) > 0:\n",
    "        for i in s:\n",
    "            N.remove(i)\n",
    "    return N\n",
    "\n",
    "def ChooseFrom(N, s):\n",
    "    global pheromones\n",
    "    global alpha\n",
    "    global beta\n",
    "    probabilities = []\n",
    "    total_factor = 0\n",
    "    if len(s) > 0:\n",
    "        current_loc = s[-1]    \n",
    "        for n in N:\n",
    "            phe = pheromones[current_loc][n]\n",
    "            dis = costs[current_loc][n]\n",
    "            total_factor += (np.power(phe, alpha) * np.power(1/dis, beta))\n",
    "        for n in N:\n",
    "            phe = pheromones[current_loc][n]\n",
    "            dis = costs[current_loc][n]\n",
    "            decision_probability = (np.power(phe, alpha) * np.power(1/dis, beta)) / total_factor #pheromone model\n",
    "            probabilities.append(decision_probability)\n",
    "        c = np.random.choice(N, p=probabilities, size=1)[0] #probabilistic decision for next state\n",
    "    else:\n",
    "        c = np.random.choice(N) #random starting location if it is not set\n",
    "    return c"
   ]
  },
  {
   "cell_type": "code",
   "execution_count": 5,
   "metadata": {},
   "outputs": [],
   "source": [
    "import numpy as np\n",
    "\n",
    "evaporation_constant = 0.5\n",
    "number_of_cities = 2\n",
    "pheromones = np.ones((number_of_cities, number_of_cities))\n",
    "alpha = 1\n",
    "beta = 2\n",
    "\n",
    "def Initialization(costs, e, a, b):\n",
    "    global evaporation_constant\n",
    "    evaporation_constant = e\n",
    "    global number_of_cities\n",
    "    number_of_cities = len(costs)\n",
    "    global alpha\n",
    "    alpha = a\n",
    "    global beta\n",
    "    beta = b\n",
    "    global pheromones\n",
    "    D = VeryBadTour(costs, number_of_cities)\n",
    "    initial_pheromone_value = number_of_cities / D\n",
    "    initial_pheromones = np.ones((number_of_cities, number_of_cities))\n",
    "    initial_pheromones.fill(initial_pheromone_value)\n",
    "    pheromones = initial_pheromones\n",
    "\n",
    "def AntSystem(costs, e = 0.5, n = 10, alpha = 1, beta = 5, starting_location = None):\n",
    "    Initialization(costs, e, alpha, beta)\n",
    "    best_solution = []\n",
    "    best_value = VeryBadTour(costs, number_of_cities)\n",
    "    while n > 0:\n",
    "        s = SolutionConstruction(l = starting_location)\n",
    "        v = SolutionValue(costs, s)\n",
    "        if v < best_value or len(best_solution) == 0:\n",
    "            s.append(s[0])\n",
    "            best_solution = s\n",
    "            best_value = v\n",
    "        PheromoneUpdate(v, s)\n",
    "        n = n - 1\n",
    "    print(f'{best_solution} is the best tour and {best_value} is the best value')"
   ]
  },
  {
   "cell_type": "code",
   "execution_count": 6,
   "metadata": {
    "scrolled": false
   },
   "outputs": [
    {
     "name": "stdout",
     "output_type": "stream",
     "text": [
      "[0, 4, 1, 3, 2, 0] is the best tour and 668 is the best value\n",
      "[0, 4, 1, 3, 2, 0] is the best tour and 668 is the best value\n",
      "[0, 4, 1, 3, 2, 0] is the best tour and 668 is the best value\n",
      "[0, 4, 1, 3, 2, 0] is the best tour and 668 is the best value\n",
      "[0, 4, 1, 3, 2, 0] is the best tour and 668 is the best value\n",
      "[0, 4, 1, 3, 2, 0] is the best tour and 668 is the best value\n",
      "[0, 4, 1, 3, 2, 0] is the best tour and 668 is the best value\n",
      "[0, 4, 1, 3, 2, 0] is the best tour and 668 is the best value\n",
      "[0, 4, 1, 3, 2, 0] is the best tour and 668 is the best value\n",
      "[0, 4, 1, 3, 2, 0] is the best tour and 668 is the best value\n"
     ]
    }
   ],
   "source": [
    "costs = [[0, 132, 217, 164, 58],\n",
    "        [132, 0, 290, 201, 79],\n",
    "        [217, 290, 0, 113, 303],\n",
    "        [164, 201, 113, 0, 196],\n",
    "        [58, 79, 303, 196, 0]]\n",
    "\n",
    "for i in range(10):\n",
    "    AntSystem(costs, n=100, starting_location=0) #Starts at 0"
   ]
  },
  {
   "cell_type": "code",
   "execution_count": 7,
   "metadata": {},
   "outputs": [
    {
     "name": "stdout",
     "output_type": "stream",
     "text": [
      "[3, 2, 0, 4, 1, 3] is the best tour and 668 is the best value\n",
      "[0, 4, 1, 3, 2, 0] is the best tour and 668 is the best value\n",
      "[3, 2, 0, 4, 1, 3] is the best tour and 668 is the best value\n",
      "[1, 4, 0, 3, 2, 1] is the best tour and 704 is the best value\n",
      "[1, 4, 0, 3, 2, 1] is the best tour and 704 is the best value\n",
      "[2, 3, 1, 4, 0, 2] is the best tour and 668 is the best value\n",
      "[0, 4, 1, 3, 2, 0] is the best tour and 668 is the best value\n",
      "[3, 1, 4, 0, 2, 3] is the best tour and 668 is the best value\n",
      "[0, 4, 1, 3, 2, 0] is the best tour and 668 is the best value\n",
      "[3, 2, 1, 4, 0, 3] is the best tour and 704 is the best value\n"
     ]
    }
   ],
   "source": [
    "costs = [[0, 132, 217, 164, 58],\n",
    "        [132, 0, 290, 201, 79],\n",
    "        [217, 290, 0, 113, 303],\n",
    "        [164, 201, 113, 0, 196],\n",
    "        [58, 79, 303, 196, 0]]\n",
    "\n",
    "for i in range(10):\n",
    "    AntSystem(costs, n=100) #Starts randomly"
   ]
  },
  {
   "cell_type": "code",
   "execution_count": 8,
   "metadata": {},
   "outputs": [
    {
     "name": "stdout",
     "output_type": "stream",
     "text": [
      "[2, 3, 1, 4, 0, 2] is the best tour and 668 is the best value\n",
      "[2, 3, 1, 4, 0, 2] is the best tour and 668 is the best value\n",
      "[2, 3, 1, 4, 0, 2] is the best tour and 668 is the best value\n",
      "[2, 3, 0, 4, 1, 2] is the best tour and 704 is the best value\n",
      "[2, 3, 1, 4, 0, 2] is the best tour and 668 is the best value\n",
      "[2, 3, 1, 4, 0, 2] is the best tour and 668 is the best value\n",
      "[2, 3, 1, 4, 0, 2] is the best tour and 668 is the best value\n",
      "[2, 3, 0, 4, 1, 2] is the best tour and 704 is the best value\n",
      "[2, 3, 1, 4, 0, 2] is the best tour and 668 is the best value\n",
      "[2, 3, 0, 4, 1, 2] is the best tour and 704 is the best value\n"
     ]
    }
   ],
   "source": [
    "costs = [[0, 132, 217, 164, 58],\n",
    "        [132, 0, 290, 201, 79],\n",
    "        [217, 290, 0, 113, 303],\n",
    "        [164, 201, 113, 0, 196],\n",
    "        [58, 79, 303, 196, 0]]\n",
    "\n",
    "for i in range(10):\n",
    "    AntSystem(costs, n=1000, starting_location=2) #Starts at 2, and 1000 iterations"
   ]
  },
  {
   "cell_type": "code",
   "execution_count": 9,
   "metadata": {},
   "outputs": [
    {
     "name": "stdout",
     "output_type": "stream",
     "text": [
      "[0, 7, 2, 9, 10, 5, 4, 12, 11, 1, 8, 6, 3, 0] is the best tour and 7619 is the best value\n",
      "[0, 7, 2, 3, 4, 12, 11, 1, 8, 6, 10, 5, 9, 0] is the best tour and 7970 is the best value\n",
      "[0, 7, 2, 9, 3, 4, 12, 11, 1, 8, 6, 5, 10, 0] is the best tour and 8131 is the best value\n",
      "[0, 7, 2, 9, 3, 4, 12, 6, 8, 1, 11, 5, 10, 0] is the best tour and 7534 is the best value\n",
      "[0, 7, 2, 9, 5, 10, 11, 1, 8, 6, 12, 4, 3, 0] is the best tour and 7343 is the best value\n",
      "[0, 7, 2, 3, 4, 12, 11, 1, 8, 6, 10, 5, 9, 0] is the best tour and 7970 is the best value\n",
      "[0, 7, 2, 9, 10, 5, 4, 12, 8, 1, 11, 6, 3, 0] is the best tour and 8151 is the best value\n",
      "[0, 7, 2, 9, 5, 10, 11, 1, 8, 6, 12, 4, 3, 0] is the best tour and 7343 is the best value\n",
      "[0, 7, 2, 9, 10, 5, 11, 1, 8, 6, 12, 4, 3, 0] is the best tour and 7345 is the best value\n",
      "[0, 7, 2, 9, 10, 5, 4, 12, 11, 1, 8, 6, 3, 0] is the best tour and 7619 is the best value\n",
      "[0, 7, 2, 9, 5, 10, 4, 12, 11, 1, 8, 6, 3, 0] is the best tour and 7703 is the best value\n",
      "[0, 7, 2, 9, 5, 10, 4, 12, 11, 1, 8, 6, 3, 0] is the best tour and 7703 is the best value\n",
      "[0, 7, 2, 9, 5, 10, 4, 12, 11, 1, 8, 6, 3, 0] is the best tour and 7703 is the best value\n",
      "[0, 7, 9, 2, 3, 4, 12, 11, 1, 8, 6, 5, 10, 0] is the best tour and 8207 is the best value\n",
      "[0, 7, 2, 9, 3, 4, 12, 6, 1, 8, 11, 5, 10, 0] is the best tour and 8111 is the best value\n",
      "[0, 7, 2, 9, 3, 4, 12, 6, 8, 1, 11, 10, 5, 0] is the best tour and 7618 is the best value\n",
      "[0, 7, 2, 9, 5, 10, 4, 12, 8, 1, 11, 6, 3, 0] is the best tour and 8235 is the best value\n",
      "[0, 7, 2, 9, 5, 10, 4, 12, 11, 1, 8, 6, 3, 0] is the best tour and 7703 is the best value\n",
      "[0, 7, 2, 9, 10, 5, 4, 12, 11, 1, 8, 6, 3, 0] is the best tour and 7619 is the best value\n",
      "[0, 7, 2, 9, 5, 10, 4, 12, 11, 1, 8, 6, 3, 0] is the best tour and 7703 is the best value\n"
     ]
    }
   ],
   "source": [
    "costs = [[0, 2451, 713, 1018, 1631, 1374, 2408, 213, 2571, 875, 1420, 2145, 1972],\n",
    "        [2451, 0, 1745, 1524, 831, 1240, 959, 2596, 403, 1589, 1374, 357, 579],\n",
    "        [713, 1745, 0, 355, 920, 803, 1737, 851, 1858, 262, 940, 1453, 1260],\n",
    "        [1018, 1524, 355, 0, 700, 862, 1395, 1123, 1584, 466, 1056, 1280, 987],\n",
    "        [1631, 831, 920, 700, 0, 663, 1021, 1769, 949, 796, 879, 586, 371],\n",
    "        [1374, 1240, 803, 862, 663, 0, 1681, 1551, 1765, 547, 225, 887, 999],\n",
    "        [2408, 959, 1737, 1395, 1021, 1681, 0, 2493, 678, 1724, 1891, 1114, 701],\n",
    "        [213, 2596, 851, 1123, 1769, 1551, 2493, 0, 2699, 1038, 1605, 2300, 2099],\n",
    "        [2571, 403, 1858, 1584, 949, 1765, 678, 2699, 0, 1744, 1645, 653, 600],\n",
    "        [875, 1589, 262, 466, 796, 547, 1724, 1038, 1744, 0, 679, 1272, 1162],\n",
    "        [1420, 1374, 940, 1056, 879, 225, 1891, 1605, 1645, 679, 0, 1017, 1200],\n",
    "        [2145, 357, 1453, 1280, 586, 887, 1114, 2300, 653, 1272, 1017, 0, 504],\n",
    "        [1972, 579, 1260, 987, 371, 999, 701, 2099, 600, 1162, 1200, 504, 0]]\n",
    "\n",
    "for i in range(20):\n",
    "    AntSystem(costs, n=100, starting_location=0)"
   ]
  },
  {
   "cell_type": "code",
   "execution_count": 10,
   "metadata": {},
   "outputs": [
    {
     "name": "stdout",
     "output_type": "stream",
     "text": [
      "[0, 27, 5, 11, 8, 4, 25, 28, 1, 20, 19, 9, 3, 14, 17, 13, 21, 16, 10, 18, 15, 23, 26, 7, 22, 6, 24, 12, 2, 0] is the best tour and 2434 is the best value\n",
      "[0, 27, 5, 11, 8, 4, 25, 28, 2, 1, 20, 12, 9, 19, 3, 14, 18, 15, 26, 7, 23, 22, 6, 24, 10, 21, 13, 17, 16, 0] is the best tour and 2317 is the best value\n",
      "[0, 27, 5, 11, 8, 4, 25, 28, 2, 1, 20, 12, 9, 19, 3, 14, 17, 13, 21, 16, 10, 18, 15, 26, 7, 23, 22, 6, 24, 0] is the best tour and 2241 is the best value\n",
      "[0, 27, 5, 11, 8, 4, 25, 28, 1, 20, 12, 9, 3, 14, 18, 15, 26, 7, 23, 22, 6, 24, 10, 21, 13, 17, 16, 19, 2, 0] is the best tour and 2410 is the best value\n",
      "[0, 27, 4, 8, 11, 5, 25, 28, 2, 20, 1, 19, 9, 3, 14, 13, 17, 16, 21, 10, 18, 15, 26, 23, 7, 22, 6, 24, 12, 0] is the best tour and 2287 is the best value\n",
      "[0, 27, 5, 8, 4, 25, 28, 2, 1, 20, 19, 9, 3, 14, 17, 13, 21, 16, 10, 18, 24, 6, 22, 7, 26, 23, 15, 12, 11, 0] is the best tour and 2258 is the best value\n",
      "[0, 27, 5, 11, 4, 8, 25, 28, 2, 1, 20, 19, 9, 3, 14, 18, 24, 15, 26, 23, 12, 10, 13, 21, 17, 16, 6, 22, 7, 0] is the best tour and 2415 is the best value\n",
      "[0, 27, 5, 11, 8, 4, 25, 28, 2, 19, 9, 3, 14, 18, 15, 26, 23, 7, 22, 6, 24, 10, 21, 16, 13, 17, 1, 20, 12, 0] is the best tour and 2263 is the best value\n",
      "[0, 27, 5, 11, 8, 4, 25, 28, 2, 1, 20, 19, 9, 3, 14, 18, 12, 15, 23, 26, 7, 22, 6, 24, 10, 21, 13, 17, 16, 0] is the best tour and 2296 is the best value\n",
      "[0, 27, 5, 11, 8, 4, 25, 28, 2, 1, 20, 19, 9, 3, 14, 18, 15, 26, 7, 23, 12, 17, 13, 21, 16, 10, 24, 6, 22, 0] is the best tour and 2255 is the best value\n",
      "[0, 27, 5, 11, 4, 8, 25, 28, 2, 1, 20, 19, 9, 3, 14, 18, 24, 15, 26, 7, 22, 6, 10, 21, 16, 17, 13, 12, 23, 0] is the best tour and 2293 is the best value\n",
      "[0, 27, 5, 11, 8, 4, 25, 28, 2, 1, 20, 9, 19, 3, 14, 18, 24, 15, 23, 26, 7, 22, 6, 17, 13, 16, 21, 10, 12, 0] is the best tour and 2357 is the best value\n",
      "[0, 27, 5, 11, 8, 4, 25, 28, 2, 12, 9, 3, 14, 18, 24, 15, 26, 23, 7, 22, 6, 10, 21, 13, 17, 16, 19, 1, 20, 0] is the best tour and 2353 is the best value\n",
      "[0, 27, 5, 11, 8, 4, 25, 28, 2, 1, 20, 23, 26, 7, 22, 6, 24, 18, 14, 3, 9, 19, 17, 13, 21, 16, 10, 15, 12, 0] is the best tour and 2252 is the best value\n",
      "[0, 27, 5, 11, 8, 4, 25, 28, 2, 1, 20, 9, 3, 14, 18, 24, 6, 22, 7, 23, 26, 15, 12, 19, 16, 17, 13, 21, 10, 0] is the best tour and 2371 is the best value\n",
      "[0, 27, 5, 11, 8, 4, 20, 1, 28, 25, 2, 9, 19, 12, 18, 3, 14, 17, 13, 21, 16, 10, 24, 6, 22, 26, 7, 23, 15, 0] is the best tour and 2296 is the best value\n",
      "[0, 27, 5, 11, 8, 4, 25, 28, 2, 1, 20, 19, 9, 3, 14, 13, 17, 16, 21, 10, 24, 6, 22, 7, 23, 26, 15, 18, 12, 0] is the best tour and 2105 is the best value\n",
      "[0, 27, 5, 11, 8, 4, 20, 1, 19, 9, 3, 14, 18, 24, 6, 22, 26, 7, 23, 15, 12, 10, 13, 17, 16, 21, 25, 28, 2, 0] is the best tour and 2470 is the best value\n",
      "[0, 27, 5, 11, 8, 4, 25, 28, 2, 1, 20, 19, 9, 3, 14, 18, 15, 26, 23, 12, 16, 17, 13, 21, 10, 24, 6, 22, 7, 0] is the best tour and 2189 is the best value\n",
      "[0, 27, 5, 11, 8, 4, 25, 28, 2, 1, 19, 9, 3, 14, 17, 13, 21, 16, 10, 18, 15, 24, 6, 22, 26, 23, 12, 20, 7, 0] is the best tour and 2188 is the best value\n"
     ]
    }
   ],
   "source": [
    "costs = [[0, 107, 241, 190, 124, 80, 316, 76, 152, 157, 283, 133, 113, 297, 228, 129, 348, 276, 188, 150, 65, 341, 184, 67, 221, 169, 108, 45, 167],\n",
    "        [107, 0, 148, 137, 88, 127, 336, 183, 134, 95, 254, 180, 101, 234, 175, 176, 265, 199, 182, 67, 42, 278, 271, 146, 251, 105, 191, 139, 79],\n",
    "        [241, 148, 0, 374, 171, 259, 509, 317, 217, 232, 491, 312, 280, 391, 412, 349, 422, 356, 355, 204, 182, 435, 417, 292, 424, 116, 337, 273, 77],\n",
    "        [190, 137, 374, 0, 202, 234, 222, 192, 248, 42, 117, 287, 79, 107, 38, 121, 152, 86, 68, 70, 137, 151, 239, 135, 137, 242, 165, 228, 205],\n",
    "        [124, 88, 171, 202, 0, 61, 392, 202, 46, 160, 319, 112, 163, 322, 240, 232, 314, 287, 238, 155, 65, 366, 300, 175, 307, 57, 220, 121, 97],\n",
    "        [80, 127, 259, 234, 61, 0, 386, 141, 72, 167, 351, 55, 157, 331, 272, 226, 362, 296, 232, 164, 85, 375, 249, 147, 301, 118, 188, 60, 185],\n",
    "        [316, 336, 509, 222, 392, 386, 0, 233, 438, 254, 202, 439, 235, 254, 210, 187, 313, 266, 154, 282, 321, 298, 168, 249, 95, 437, 190, 314, 435],\n",
    "        [76, 183, 317, 192, 202, 141, 233, 0, 213, 188, 272, 193, 131, 302, 233, 98, 344, 289, 177, 216, 141, 346, 108, 57, 190, 245, 43, 81, 243],\n",
    "        [152, 134, 217, 248, 46, 72, 438, 213, 0, 206, 365, 89, 209, 368, 286, 278, 360, 333, 284, 201, 111, 412, 321, 221, 353, 72, 266, 132, 111],\n",
    "        [157, 95, 232, 42, 160, 167, 254, 188, 206, 0, 159, 220, 57, 149, 80, 132, 193, 127, 100, 28, 95, 193, 241, 131, 169, 200, 161, 189, 163],\n",
    "        [283, 254, 491, 117, 319, 351, 202, 272, 365, 159, 0, 404, 176, 106, 79, 161, 165, 141, 95, 187, 254, 103, 279, 215, 117, 359, 216, 308, 322],\n",
    "        [133, 180, 312, 287, 112, 55, 439, 193, 89, 220, 404, 0, 210, 384, 325, 279, 415, 349, 285, 217, 138, 428, 310, 200, 354, 169, 241, 112, 238],\n",
    "        [113, 101, 280, 79, 163, 157, 235, 131, 209, 57, 176, 210, 0, 186, 117, 75, 231, 165, 81, 85, 92, 230, 184, 74, 150, 208, 104, 158, 206],\n",
    "        [297, 234, 391, 107, 322, 331, 254, 302, 368, 149, 106, 384, 186, 0, 69, 191, 59, 35, 125, 167, 255, 44, 309, 245, 169, 327, 246, 335, 288],\n",
    "        [228, 175, 412, 38, 240, 272, 210, 233, 286, 80, 79, 325, 117, 69, 0, 122, 122, 56, 56, 108, 175, 113, 240, 176, 125, 280, 177, 266, 243],\n",
    "        [129, 176, 349, 121, 232, 226, 187, 98, 278, 132, 161, 279, 75, 191, 122, 0, 244, 178, 66, 160, 161, 235, 118, 62, 92, 277, 55, 155, 275],\n",
    "        [348, 265, 422, 152, 314, 362, 313, 344, 360, 193, 165, 415, 231, 59, 122, 244, 0, 66, 178, 198, 286, 77, 362, 287, 228, 358, 299, 380, 319],\n",
    "        [276, 199, 356, 86, 287, 296, 266, 289, 333, 127, 141, 349, 165, 35, 56, 178, 66, 0, 112, 132, 220, 79, 296, 232, 181, 292, 233, 314, 253],\n",
    "        [188, 182, 355, 68, 238, 232, 154, 177, 284, 100, 95, 285, 81, 125, 56, 66, 178, 112, 0, 128, 167, 169, 179, 120, 69, 283, 121, 213, 281],\n",
    "        [150, 67, 204, 70, 155, 164, 282, 216, 201, 28, 187, 217, 85, 167, 108, 160, 198, 132, 128, 0, 88, 211, 269, 159, 197, 172, 189, 182, 135],\n",
    "        [65, 42, 182, 137, 65, 85, 321, 141, 111, 95, 254, 138, 92, 255, 175, 161, 286, 220, 167, 88, 0, 299, 229, 104, 236, 110, 149, 97, 108],\n",
    "        [341, 278, 435, 151, 366, 375, 298, 346, 412, 193, 103, 428, 230, 44, 113, 235, 77, 79, 169, 211, 299, 0, 353, 289, 213, 371, 290, 379, 332],\n",
    "        [184, 271, 417, 239, 300, 249, 168, 108, 321, 241, 279, 310, 184, 309, 240, 118, 362, 296, 179, 269, 229, 353, 0, 121, 162, 345, 80, 189, 342],\n",
    "        [67, 146, 292, 135, 175, 147, 249, 57, 221, 131, 215, 200, 74, 245, 176, 62, 287, 232, 120, 159, 104, 289, 121, 0, 154, 220, 41, 93, 218],\n",
    "        [221, 251, 424, 137, 307, 301, 95, 190, 353, 169, 117, 354, 150, 169, 125, 92, 228, 181, 69, 197, 236, 213, 162, 154, 0, 352, 147, 247, 350],\n",
    "        [169, 105, 116, 242, 57, 118, 437, 245, 72, 200, 359, 169, 208, 327, 280, 277, 358, 292, 283, 172, 110, 371, 345, 220, 352, 0, 265, 178, 39],\n",
    "        [108, 191, 337, 165, 220, 188, 190, 43, 266, 161, 216, 241, 104, 246, 177, 55, 299, 233, 121, 189, 149, 290, 80, 41, 147, 265, 0, 124, 263],\n",
    "        [45, 139, 273, 228, 121, 60, 314, 81, 132, 189, 308, 112, 158, 335, 266, 155, 380, 314, 213, 182, 97, 379, 189, 93, 247, 178, 124, 0, 199],\n",
    "        [167, 79, 77, 205, 97, 185, 435, 243, 111, 163, 322, 238, 206, 288, 243, 275, 319, 253, 281, 135, 108, 332, 342, 218, 350, 39, 263, 199, 0]]\n",
    "\n",
    "for i in range(20):\n",
    "    AntSystem(costs, n=100, starting_location=0)"
   ]
  }
 ],
 "metadata": {
  "kernelspec": {
   "display_name": "Python 3",
   "language": "python",
   "name": "python3"
  },
  "language_info": {
   "codemirror_mode": {
    "name": "ipython",
    "version": 3
   },
   "file_extension": ".py",
   "mimetype": "text/x-python",
   "name": "python",
   "nbconvert_exporter": "python",
   "pygments_lexer": "ipython3",
   "version": "3.7.6"
  }
 },
 "nbformat": 4,
 "nbformat_minor": 4
}
